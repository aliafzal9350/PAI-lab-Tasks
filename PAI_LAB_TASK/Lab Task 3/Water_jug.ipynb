{
 "cells": [
  {
   "cell_type": "code",
   "execution_count": 1,
   "id": "5ca66118-3fce-41ec-a638-410180e6cea1",
   "metadata": {},
   "outputs": [
    {
     "name": "stdin",
     "output_type": "stream",
     "text": [
      "Enter capacity of first jug:  4\n",
      "Enter capacity of second jug:  5\n",
      "Enter target amount:  2\n"
     ]
    },
    {
     "name": "stdout",
     "output_type": "stream",
     "text": [
      "Water Jug Problem Rules:\n",
      "1. Fill the first jug completely.\n",
      "2. Fill the second jug completely.\n",
      "3. Empty the first jug completely.\n",
      "4. Empty the second jug completely.\n",
      "5. Pour water from the first jug into the second until the second is full or the first is empty.\n",
      "6. Pour water from the second jug into the first until the first is full or the second is empty.\n",
      "\n",
      "Solution Path:\n",
      "[(0, 0), (0, 5), (4, 1), (4, 0), (0, 4), (4, 4), (3, 5), (3, 0), (0, 3), (4, 3), (2, 5)]\n"
     ]
    }
   ],
   "source": [
    "\n",
    "def is_valid(state, capacity):\n",
    "    return 0 <= state[0] <= capacity[0] and 0 <= state[1] <= capacity[1]\n",
    "\n",
    "def water_jug_dfs(jug1, jug2, target):\n",
    "    stack = [(0, 0)]  \n",
    "    visited = set()\n",
    "    parent = {}\n",
    "    found = False\n",
    "    \n",
    "    while stack:\n",
    "        state = stack.pop()\n",
    "        if state in visited:\n",
    "            continue\n",
    "        \n",
    "        visited.add(state)\n",
    "        \n",
    "        if state[0] == target or state[1] == target:\n",
    "            found = True\n",
    "            break\n",
    "        \n",
    "        x, y = state\n",
    "        \n",
    "        moves = [\n",
    "            (jug1, y), \n",
    "            (x, jug2),  \n",
    "            (0, y),  \n",
    "            (x, 0), \n",
    "            (x - min(x, jug2 - y), y + min(x, jug2 - y)), \n",
    "            (x + min(y, jug1 - x), y - min(y, jug1 - x))  \n",
    "        ]\n",
    "        \n",
    "        for move in moves:\n",
    "            if move not in visited and is_valid(move, (jug1, jug2)):\n",
    "                stack.append(move)\n",
    "                parent[move] = state\n",
    "    \n",
    "    if not found:\n",
    "        return \"No solution found.\"\n",
    "    \n",
    "    # Backtrack to find the path\n",
    "    path = []\n",
    "    while state:\n",
    "        path.append(state)\n",
    "        state = parent.get(state)\n",
    "    path.reverse()\n",
    "    \n",
    "    return path\n",
    "\n",
    "def print_rules():\n",
    "    rules = [\n",
    "        \"1. Fill the first jug completely.\",\n",
    "        \"2. Fill the second jug completely.\",\n",
    "        \"3. Empty the first jug completely.\",\n",
    "        \"4. Empty the second jug completely.\",\n",
    "        \"5. Pour water from the first jug into the second until the second is full or the first is empty.\",\n",
    "        \"6. Pour water from the second jug into the first until the first is full or the second is empty.\"\n",
    "    ]\n",
    "    \n",
    "    print(\"Water Jug Problem Rules:\")\n",
    "    for rule in rules:\n",
    "        print(rule)\n",
    "        \n",
    "if __name__ == \"__main__\":\n",
    "    jug1_capacity = int(input(\"Enter capacity of first jug: \"))\n",
    "    jug2_capacity = int(input(\"Enter capacity of second jug: \"))\n",
    "    target_amount = int(input(\"Enter target amount: \"))\n",
    "    \n",
    "    print_rules()\n",
    "    solution = water_jug_dfs(jug1_capacity, jug2_capacity, target_amount)\n",
    "    print(\"\\nSolution Path:\")\n",
    "    print(solution)\n"
   ]
  },
  {
   "cell_type": "code",
   "execution_count": null,
   "id": "9c826c50-1b5c-456a-80ea-b6b831b96e33",
   "metadata": {},
   "outputs": [],
   "source": []
  }
 ],
 "metadata": {
  "kernelspec": {
   "display_name": "Python 3 (ipykernel)",
   "language": "python",
   "name": "python3"
  },
  "language_info": {
   "codemirror_mode": {
    "name": "ipython",
    "version": 3
   },
   "file_extension": ".py",
   "mimetype": "text/x-python",
   "name": "python",
   "nbconvert_exporter": "python",
   "pygments_lexer": "ipython3",
   "version": "3.12.7"
  }
 },
 "nbformat": 4,
 "nbformat_minor": 5
}
